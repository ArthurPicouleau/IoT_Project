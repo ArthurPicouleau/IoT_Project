{
 "cells": [
  {
   "cell_type": "markdown",
   "id": "65c23e94-1f1b-4922-9147-3357738d2a05",
   "metadata": {},
   "source": [
    "Creation of the CHANNEL ID and the PAN_ID for the communication between two nodes"
   ]
  },
  {
   "cell_type": "code",
   "execution_count": null,
   "id": "ce5dd7f1-00a4-47fc-9455-8bfdf2d720af",
   "metadata": {},
   "outputs": [],
   "source": [
    "import os,binascii,random\n",
    "pan_id = binascii.b2a_hex(os.urandom(2)).decode()\n",
    "channel = random.randint(11, 26)\n",
    "print('Use CHANNEL={}, PAN_ID=0x{}'.format(channel, pan_id))"
   ]
  }
 ],
 "metadata": {
  "kernelspec": {
   "display_name": "Python 3 (ipykernel)",
   "language": "python",
   "name": "python3"
  },
  "language_info": {
   "codemirror_mode": {
    "name": "ipython",
    "version": 3
   },
   "file_extension": ".py",
   "mimetype": "text/x-python",
   "name": "python",
   "nbconvert_exporter": "python",
   "pygments_lexer": "ipython3",
   "version": "3.9.7"
  }
 },
 "nbformat": 4,
 "nbformat_minor": 5
}
